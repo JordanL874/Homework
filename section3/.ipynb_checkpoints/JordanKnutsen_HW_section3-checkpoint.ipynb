{
 "cells": [
  {
   "cell_type": "markdown",
   "metadata": {},
   "source": [
    "1. What is an algorithm?\n",
    "- An algorithm is a series of steps to solve a problem at hand\n",
    "\n",
    "2. Variable names may not start with certain characters - name two.\n",
    "- Numbers and special characters like #\n",
    "\n",
    "3. What is a Semantic error?\n",
    "- The code is grammatically correct but doesn't make any sense; it does not produce the expected results\n",
    "\n",
    "4. What is the #1 rule of coding / debugging?\n",
    "- Complexity is the enemy of efficiency\n",
    "\n",
    "5. List 5 Python reserved words.\n",
    "- False, none, true, class, continue\n"
   ]
  },
  {
   "cell_type": "code",
   "execution_count": null,
   "metadata": {
    "vscode": {
     "languageId": "bat"
    }
   },
   "outputs": [],
   "source": []
  }
 ],
 "metadata": {
  "kernelspec": {
   "display_name": "Python 3 (ipykernel)",
   "language": "python",
   "name": "python3"
  },
  "language_info": {
   "codemirror_mode": {
    "name": "ipython",
    "version": 3
   },
   "file_extension": ".py",
   "mimetype": "text/x-python",
   "name": "python",
   "nbconvert_exporter": "python",
   "pygments_lexer": "ipython3",
   "version": "3.11.3"
  }
 },
 "nbformat": 4,
 "nbformat_minor": 2
}
