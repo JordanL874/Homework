{
 "cells": [
  {
   "cell_type": "markdown",
   "metadata": {},
   "source": [
    "1. What is an algorithm?\n",
    "- An algorithm is a series of steps to solve a problem at hand\n",
    "\n",
    "2. Variable names may not start with certain characters - name two.\n",
    "- Numbers and special characters like #\n",
    "\n",
    "3. What is a Semantic error?\n",
    "- The code is grammatically correct but doesn't make any sense; it does not produce the expected results\n",
    "\n",
    "4. What is the #1 rule of coding / debugging?\n",
    "- Complexity is the enemy of efficiency\n",
    "\n",
    "5. List 5 Python reserved words.\n",
    "- False, none, true, class, continue\n"
   ]
  },
  {
   "cell_type": "code",
   "execution_count": 8,
   "metadata": {},
   "outputs": [
    {
     "name": "stdout",
     "output_type": "stream",
     "text": [
      "The length is 15\n",
      "Element 4 =  o\n"
     ]
    }
   ],
   "source": [
    "\"\"\"\n",
    "My Name is Jordan Knutsen\n",
    "My favorite food is Thai food\n",
    "My dream job is to be retired\n",
    "\"\"\"\n",
    "\n",
    "a = \"Cat\"\n",
    "b = \"Chicken\"\n",
    "c = \"Goat\"\n",
    "d = \"Cow\"\n",
    "e = str('I love animals!')\n",
    "\n",
    "print(\"The length is\", len(e))\n",
    "print(\"Element 4 = \", e[3])"
   ]
  },
  {
   "cell_type": "code",
   "execution_count": 12,
   "metadata": {},
   "outputs": [
    {
     "name": "stdout",
     "output_type": "stream",
     "text": [
      "ing Data Analytics\n",
      "Learning Data Analytics and Python is great!\n",
      "Python is present\n"
     ]
    }
   ],
   "source": [
    "savvy = str(\"Learning Data Analytics and Python is Awesome!\")\n",
    "print(savvy[5:23])\n",
    "print(savvy.replace(\"Awesome\", \"great\"))\n",
    "a = \"Python\"\n",
    "if \"a\": print(\"Python is present\")"
   ]
  },
  {
   "cell_type": "code",
   "execution_count": 18,
   "metadata": {},
   "outputs": [
    {
     "name": "stdout",
     "output_type": "stream",
     "text": [
      "Hi my name is Jordan, I am 5 ft 3 and am 33 years old today.\n",
      "33.0\n"
     ]
    }
   ],
   "source": [
    "name = \"Jordan\"\n",
    "age = \"33\"\n",
    "length = \"5 ft 3\"\n",
    "miniBio = message = (f\"Hi my name is {name}, I am {length} and am {age} years old today.\")\n",
    "print(miniBio)\n",
    "j = float(age)\n",
    "print(j)"
   ]
  },
  {
   "cell_type": "code",
   "execution_count": 34,
   "metadata": {},
   "outputs": [
    {
     "name": "stdout",
     "output_type": "stream",
     "text": [
      "['caramel', 'fudge', 4, 'Hello', 'There']\n",
      "replaced ...  ['caramel', 'fudge', 4, 'Hello', 'cherry']\n",
      "New list ...  ['caramel', 'fudge', 4, 'Hello', 'cherry', 'sprinkles', 'butterscotch']\n",
      "New List length = 7\n",
      "['sprinkles', 'butterscotch']\n",
      "Extended mylist ...  ['caramel', 'fudge', 4, 'Hello', 'cherry', 'sprinkles', 'butterscotch', 'sprinkles', 'butterscotch']\n",
      "Sorted list in reverse -  [5, 4, 3, 2, 1]\n",
      "Copied List: [5, 4, 3, 2, 1]\n",
      "New added list ... [5, 4, 3, 2, 1, 5, 4, 3, 2, 1]\n"
     ]
    }
   ],
   "source": [
    "mylist = [\"caramel\", \"fudge\", 4, \"Hello\", \"There\"]\n",
    "print(mylist)\n",
    "mylist[4] = \"cherry\"\n",
    "print(\"replaced ... \", mylist)\n",
    "mylist.append(\"sprinkles\")\n",
    "mylist.append(\"butterscotch\")\n",
    "print(\"New list ... \", mylist)\n",
    "print(\"New List length =\", len(mylist))\n",
    "slist = mylist[5:7]\n",
    "print(slist)\n",
    "mylist.extend(slist)\n",
    "print(\"Extended mylist ... \", mylist)\n",
    "\n",
    "simList = [1, 2, 3, 4, 5]\n",
    "simList.sort(reverse=True)\n",
    "print(\"Sorted list in reverse - \", simList)\n",
    "new_list = simList.copy()\n",
    "print('Copied List:', new_list)\n",
    "list4 = simList + new_list\n",
    "print(\"New added list ...\", list4)\n",
    "\n"
   ]
  },
  {
   "cell_type": "code",
   "execution_count": 47,
   "metadata": {},
   "outputs": [
    {
     "name": "stdout",
     "output_type": "stream",
     "text": [
      "\n",
      "tup2[12] ...  3\n",
      "(1, 2, 3, 4, 5, 1, 2, 3, 4, 5, 1, 2, 3, 4, 5)\n",
      "Sorted elements - default (1, 2, 3, 4, 5, 1, 2, 3, 4, 5, 1, 2, 3, 4, 5)\n",
      "(1, 2, 3, 4)\n",
      "printing unpack variable from tup3: 1, 2, 3, 4\n",
      "(50,)\n",
      "(1, 2, 3, 4, 5, 1, 2, 3, 4, 5, 1, 2, 3, 4, 5, 1, 2, 3, 4)\n"
     ]
    }
   ],
   "source": [
    "tup1 = (1, 2, 3, 4, 5)\n",
    "tup2 = tup1 * 3\n",
    "print(\"\\ntup2[12] ... \", tup2[12])\n",
    "print(tup2)\n",
    "sorted(tup2)\n",
    "print(\"Sorted elements - default\", tup2)\n",
    "tup3 = tup2[:4]\n",
    "print(tup3)\n",
    "print(\"printing unpack variable from tup3:\", \"1, 2, 3, 4\")\n",
    "tup4 = (50,)\n",
    "print(tup4)\n",
    "tup5 = tup2 + tup3\n",
    "print(tup5)"
   ]
  },
  {
   "cell_type": "code",
   "execution_count": 54,
   "metadata": {},
   "outputs": [
    {
     "name": "stdout",
     "output_type": "stream",
     "text": [
      "set1 ...  {'rainbow', ('orange', 'blueberries', 'cantaloupe'), 'sunshine', 'clouds'}\n",
      "{'firefly', 'hammer'}\n",
      "cleared set ...  set()\n",
      "{'marshmellow', 'rainbow', 'sunshine', ('orange', 'blueberries', 'cantaloupe'), 'jeep', 'clouds'}\n"
     ]
    }
   ],
   "source": [
    "set1 = {\"clouds\", \"sunshine\", \"rainbow\"}\n",
    "list1 = (\"orange\", \"blueberries\", \"cantaloupe\")\n",
    "set1.add(list1)\n",
    "print(\"set1 ... \", set1)\n",
    "set1.add(\"jeep\")\n",
    "set2 = {\"hammer\", \"marshmellow\", \"firefly\"}\n",
    "set3 = set1.union(set2)\n",
    "set2.pop()\n",
    "print(set2)\n",
    "set1.clear()\n",
    "print(\"cleared set ... \", set1)\n",
    "set3.remove(\"hammer\")\n",
    "set3.discard(\"firefly\")\n",
    "print(set3)\n"
   ]
  },
  {
   "cell_type": "code",
   "execution_count": 68,
   "metadata": {},
   "outputs": [
    {
     "name": "stdout",
     "output_type": "stream",
     "text": [
      "Mt. Kilimanjaro\n",
      "\n",
      " after changing the event value: {'mountain': 'Mt. Kilimanjaro', 'country': 'Costa Rica', 'color': 'blue', 'event': 'Jordan'}\n",
      "\n",
      "after adding new key;value: {'mountain': 'Mt. Kilimanjaro', 'country': 'Costa Rica', 'color': 'blue', 'event': 'Jordan', 'favcolor': 'pink'}\n",
      "After adding bucket list to the dictionary: {'mountain': 'Mt. Kilimanjaro', 'country': 'Costa Rica', 'color': 'blue', 'event': 'Jordan', 'favcolor': 'pink', 'bucket list': ['sky diving', 'Machu Picchu', 'Tanzania']}\n",
      "{'mountain': 'Mt. Kilimanjaro', 'country': 'Costa Rica', 'event': 'Jordan', 'favcolor': 'pink', 'bucket list': ['sky diving', 'Machu Picchu', 'Tanzania']}\n",
      "{}\n"
     ]
    }
   ],
   "source": [
    "aDict = {\n",
    "    \"mountain\": \"Mt. Kilimanjaro\",\n",
    "    \"country\": \"Costa Rica\",\n",
    "    \"color\": \"blue\",\n",
    "    \"event\": \"Olympics\"}\n",
    "a = aDict[\"mountain\"]\n",
    "print(a)\n",
    "aDict[\"event\"] = \"Jordan\"\n",
    "print(\"\\n after changing the event value:\",aDict)\n",
    "aDict[\"favcolor\"] = \"pink\"\n",
    "print(\"\\nafter adding new key;value:\", aDict)\n",
    "aDict[\"bucket list\"] = [\"sky diving\", \"Machu Picchu\", \"Tanzania\"]\n",
    "print(\"After adding bucket list to the dictionary:\",aDict)\n",
    "aDict.keys()\n",
    "aDict.values()\n",
    "bDict = aDict.copy()\n",
    "bDict.pop(\"color\")\n",
    "print(bDict)\n",
    "bDict.clear()\n",
    "print(bDict)\n"
   ]
  }
 ],
 "metadata": {
  "kernelspec": {
   "display_name": "Python 3 (ipykernel)",
   "language": "python",
   "name": "python3"
  },
  "language_info": {
   "codemirror_mode": {
    "name": "ipython",
    "version": 3
   },
   "file_extension": ".py",
   "mimetype": "text/x-python",
   "name": "python",
   "nbconvert_exporter": "python",
   "pygments_lexer": "ipython3",
   "version": "3.11.3"
  }
 },
 "nbformat": 4,
 "nbformat_minor": 2
}
