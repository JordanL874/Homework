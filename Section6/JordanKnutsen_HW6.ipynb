{
 "cells": [
  {
   "attachments": {},
   "cell_type": "markdown",
   "metadata": {},
   "source": [
    "## 1. Context: Looking at poverty rates within the United States, Americans are considered to have more extreme and prevalent povety compared to their OECD counterparts. \n",
    "\n",
    "- The questions that I will attempt to answer are: \n",
    "- What factors have made it so that poverty rates have largely remained the same in the USA?\n",
    "- How does the USA social safety net compare to similar nations?\n",
    "- What are the most effective anti-poverty programs being employed by OECD countries and how are they prioritizing their funding?"
   ]
  },
  {
   "attachments": {},
   "cell_type": "markdown",
   "metadata": {},
   "source": [
    "## 2. Datasets\n",
    "\n",
    "- https://www.statista.com/statistics/233910/poverty-rates-in-oecd-countries/#:~:text=Out%20of%20all%20OECD%20countries,was%20Hungary%2C%20with%2017.6%20percent.\n",
    "\n",
    "    - Primary dataset that shows rates within OECD countries as of 2021\n",
    "    - Webscrapping option:\n",
    "\n",
    "import pandas as pd\n",
    "import requests\n",
    "url = https://www.statista.com/statistics/233910/poverty-rates-in-oecd-countries/#:~:text=Out%20of%20all%20OECD%20countries,was%20Hungary%2C%20with%2017.6%20percent.\n",
    "r = requests.get(url)\n",
    "df_list = pd.read_html(r.text, header=0) # this parses all the tables in \n",
    "webpages to a list\n",
    "print(df_list)\n",
    "\n",
    "- https://confrontingpoverty.org/poverty-facts-and-myths/americas-poor-are-worse-off-than-elsewhere/\n",
    "\n",
    "    - Table that shows the extent of poverty across 26 OECD countries \n",
    "    - Webscrapping\n",
    "\n",
    "- SOCX_AGG_30052023162951578.csv\n",
    "    - Social Spending Expenditures\n",
    "\n",
    "- DP_LIVE_30052023164551468.csv\n",
    "    - Poverty Gap in OECD countries\n",
    "- DP_LIVE_30052023164718421.csv\n",
    "    - Poverty Rate in OECD countries including by age groups\n",
    "\n",
    "- https://www.oecd-ilibrary.org/social-issues-migration-health/data/oecd-social-and-welfare-statistics_socwel-data-en\n",
    "    - Multiple Datasets\n",
    "    - Better Life Index: Broken down by country\n",
    "    - Includes Social Expenditures: Income distribution, wealth distribution, family indicators, pensions, benefits and wages\n"
   ]
  },
  {
   "attachments": {},
   "cell_type": "markdown",
   "metadata": {},
   "source": [
    "## 3. Dataset Plan\n",
    "\n",
    "Three of the datasets will be used to establish the differing poverty rates within the OECD and also prove that the USA has one of the more extreme and prevelant poverty gaps. They also contain historical data, which I will extend as far back to the 1980s to show that the rates have remained largely the same. I have several datasets that show social spending expenditures throughout the OECD. I will use these charts to first show in what areas these countries are spending: pensions, family indicators, how wealth dispartities measure, as well as benefits and wages, which will establish how these countries are funding their anti-poverty programs. Through data visualization in tableau, I will be able to see correlations, which will help to establish the questions that I'm intending on answering. "
   ]
  }
 ],
 "metadata": {
  "language_info": {
   "name": "python"
  },
  "orig_nbformat": 4
 },
 "nbformat": 4,
 "nbformat_minor": 2
}
