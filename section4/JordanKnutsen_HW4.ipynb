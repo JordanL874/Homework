{
 "cells": [
  {
   "cell_type": "code",
   "execution_count": null,
   "metadata": {},
   "outputs": [],
   "source": [
    "# Create an if statement\n",
    "age = int(input())\n",
    "if age >=25:\n",
    "    print(\"Renting a car is more affordable\")\n",
    "else:\n",
    "    print(\"Renting a car is very expensive\")\n"
   ]
  },
  {
   "cell_type": "code",
   "execution_count": null,
   "metadata": {},
   "outputs": [],
   "source": [
    "# Create and chain an if-else statement \n",
    "age = int(input())\n",
    "if age >= 25:\n",
    "    print(\"Renting a car is more affordable\")\n",
    "else:\n",
    "    if age >= 18:\n",
    "        print(\"Renting a car is very expensive\")\n",
    "    else:\n",
    "        if age < 18:\n",
    "            print(\"You cannot legally rent a car\")"
   ]
  },
  {
   "cell_type": "code",
   "execution_count": null,
   "metadata": {},
   "outputs": [],
   "source": [
    "# Loop over the following string to count characters \n",
    "\n",
    "string1 = \"The quick brown fox jumps over the lazy dog\"\n",
    "count = 0\n",
    "for i in range(0, len(string1)):\n",
    "      if(string1[i] != ' '):  \n",
    "        count = count + 1;  \n",
    "print(\"The total amount of characters is \" +str(count))\n"
   ]
  },
  {
   "cell_type": "code",
   "execution_count": null,
   "metadata": {},
   "outputs": [],
   "source": [
    "# Loop over the string to print out all the vowels\n",
    "\n",
    "string = \"The quick brown fox jumps over the lazy dog\"\n",
    "vowels = [\"a\", \"e\", \"i\", \"o\", \"u\"]\n",
    "count = 0\n",
    "i = 0\n",
    "for i in range(len(string)):\n",
    "    if (\n",
    "        i == \"a\"\n",
    "        or string[i] == \"e\"\n",
    "        or string[i] == \"i\"\n",
    "        or string[i] == \"o\"\n",
    "        or string[i] == \"u\"\n",
    "    ):\n",
    "        count += 1\n",
    "print(\"The amount of vowels is \" +str(count))\n",
    "\n",
    "for vowels in string:\n",
    "    if vowels in 'aeiou':\n",
    "        print(vowels)"
   ]
  },
  {
   "cell_type": "code",
   "execution_count": null,
   "metadata": {},
   "outputs": [],
   "source": [
    "# Nested loop that prints out every piece of clothing in every color \n",
    "\n",
    "couture_list =  [\"trousers\", \"blouse\", \"bandana\", \"cumber band\", \"blazer\", \"vest\", \"french beret\", \"scarf\", \"stole\"]\n",
    "panettone_set = [\"cerise\", \"fuchsia\", \"aqua\", \"maple\", \"auburn\", \"burnt sienna\", \"gunmetal blue\", \"Dark Sapphire\"]\n",
    "\n",
    "for x in couture_list:\n",
    "    for y in panettone_set:\n",
    "        print(x,y)\n"
   ]
  },
  {
   "cell_type": "code",
   "execution_count": null,
   "metadata": {},
   "outputs": [],
   "source": [
    "# Use range as a loop to calculate the sum of all the numbers from 1 to 100\n",
    "sum = 0\n",
    "\n",
    "for i in range(1, 101):\n",
    "    sum += i\n",
    "\n",
    "print(\"Sum: %d\" %sum)"
   ]
  },
  {
   "cell_type": "code",
   "execution_count": null,
   "metadata": {},
   "outputs": [],
   "source": [
    "#Print the second item in this fruits list\n",
    "fruitlist = [\"apple\", \"banana\", \"cherry\"]\n",
    "print(fruitlist[1])\n",
    "\n",
    "# Change the value from \"apple\" to \"kiwi\", in the fruits list\n",
    "\n",
    "fruitlist[0] = \"kiwi\"\n",
    "print(fruitlist)\n",
    "\n",
    "# Use the append method to add \"orange\" to the fruits list.\n",
    "\n",
    "fruitlist.append(\"orange\")\n",
    "print(fruitlist)\n",
    "\n",
    "# Use the insert method to add \"lemon\" as the second item in the fruits list\n",
    "\n",
    "fruitlist.insert(1, \"lemon\")\n",
    "print(fruitlist)\n",
    "\n",
    "# Use the remove method to remove \"banana\" from the fruits list.\n",
    "\n",
    "fruitlist.remove(\"banana\")\n",
    "print(fruitlist)"
   ]
  },
  {
   "cell_type": "code",
   "execution_count": null,
   "metadata": {},
   "outputs": [],
   "source": [
    "# Use negative indexing to print the 3rd and 2nd to last items in the list. \n",
    "list2 = [\"apple\", \"banana\", \"cherry\", \"orange\", \"kiwi\", \"melon\", \"mango\"]\n",
    "slicedlist = list2[-3:-1]\n",
    "print(slicedlist)\n",
    "\n",
    "# Use a range of indexes to print the third, fourth, and fifth item in the list.\n",
    "\n",
    "i = 0\n",
    "for i in list2[2:5]:\n",
    "        print(i)\n",
    "\n",
    "# Use the correct syntax to print the number of items in the list.\n",
    "\n",
    "count = 0\n",
    "for index in list2:\n",
    "    count = count + 1\n",
    "print(count)\n",
    "\n",
    "# Use the correct syntax to sort this list in reverse order\n",
    "\n",
    "list2 = [\"apple\", \"banana\", \"cherry\", \"orange\", \"kiwi\", \"melon\", \"mango\"]\n",
    "print(list2)\n",
    "list2.sort(reverse=True)\n",
    "print(list2)"
   ]
  },
  {
   "attachments": {},
   "cell_type": "markdown",
   "metadata": {},
   "source": [
    "# 1. What does one need to do to use a module?\n",
    "-  First the respective module needs to be imported into the code-base, by using the import statement.\n",
    "\n",
    "# 2. Name a Module (not the DateTime Nodule) we looked at and write a line or 2 of code as an example using this module.\n",
    "- We looked at the math module.\n",
    "    Print the value of pi\n",
    "        print (\"Print PI ...\", math.pi)\n",
    "\n",
    "# 3. What is a benefit of using Exception handling?\n",
    "- The benefit of using Exception handling is that without it, the program will crash. With Exception handling we can keep going past many errors.\n",
    "\n",
    "# 4. What are the 4 components used for Python Exception Handling?\n",
    "- Try, Except, Else, Finally\n",
    "\n",
    "# 5. NumPy arrays are like what Python data type?\n",
    "- NumPy arrays are similar to Python lists.\n",
    "\n",
    "# 6. What is one of the main benefits of using NumPy arrays.\n",
    "- NumpPy arrays use less memory than lists.\n",
    "\n",
    "# 7. What is one of the main requirements about the 'dtype' of NumPy arrays?\n",
    "- The dtype changes the array's data type.\n",
    "\n",
    "# 8. Of the 10 uses of NumPy, name 2.\n",
    "- NumPy can be used to create a Deep Copy and to change the shape of an array.\n",
    "\n",
    "# 9. Name one of the other libraries we'll use with NumPy?\n",
    "- MatPlotLib.\n",
    "\n",
    "# 10. What is the shape of NumPy arrays?\n",
    "- The shape is a tuple of non-negative integers that specify the dimensions, length and size of each array (3,2,4).\n",
    "\n",
    "# 11. What is a Tensor?\n",
    "- A tensor is an array with 3+ dimensions.\n",
    "\n",
    "# 12. Name a reason why it's better using NumPy for Data Analysis than using a Python List?\n",
    "- Numpy is more convenient, faster, and uses less memory.\n",
    "\n",
    "# 13. When creating an \"empty\" array, where do the elements come from?\n",
    "- The elements depend on whatever happens to be in the memory allocated for the array."
   ]
  },
  {
   "cell_type": "code",
   "execution_count": null,
   "metadata": {},
   "outputs": [],
   "source": [
    "# Use the DateTime module to get Current Date and Time, and save it to a variable. Then extract just the Full month name form that variable.\n",
    "from datetime import date\n",
    "a = dt.datetime.now()\n",
    "print(a.strftime(\"%b\"))"
   ]
  },
  {
   "cell_type": "code",
   "execution_count": null,
   "metadata": {},
   "outputs": [],
   "source": [
    "# Write a simple function that takes 2 parameters -- a first name and a day name.\n",
    "x= \"Sunday\"\n",
    "name = input(\"What is your first name?\")\n",
    "\n",
    "# Invoke this function with 2 variables.\n",
    "print(\"Hi\", name,\". Happy\", x)"
   ]
  },
  {
   "cell_type": "code",
   "execution_count": null,
   "metadata": {},
   "outputs": [],
   "source": [
    "# Invoke this function with 1 variable only\n",
    "x= \"Sunday\"\n",
    "name = input(\"What is your first name?\")\n",
    "def hi_happy_day():\n",
    "    print(\"Hi\", name,\". Happy\", x)\n",
    "hi_happy_day()"
   ]
  },
  {
   "cell_type": "code",
   "execution_count": null,
   "metadata": {},
   "outputs": [],
   "source": [
    "#Write a block of code to handle one of the most common Python exception errors\n",
    "\n",
    "# if age >= 25\n",
    "   # print(\"Renting a car is more affordable\")\n",
    "\n",
    "try:\n",
    "    if age >= 25:\n",
    "except:\n",
    "    print(\"SyntaxError\")\n"
   ]
  }
 ],
 "metadata": {
  "kernelspec": {
   "display_name": "Python 3",
   "language": "python",
   "name": "python3"
  },
  "language_info": {
   "codemirror_mode": {
    "name": "ipython",
    "version": 3
   },
   "file_extension": ".py",
   "mimetype": "text/x-python",
   "name": "python",
   "nbconvert_exporter": "python",
   "pygments_lexer": "ipython3",
   "version": "3.11.3"
  },
  "orig_nbformat": 4
 },
 "nbformat": 4,
 "nbformat_minor": 2
}
