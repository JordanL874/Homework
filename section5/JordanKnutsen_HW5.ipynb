{
 "cells": [
  {
   "attachments": {},
   "cell_type": "markdown",
   "metadata": {},
   "source": [
    "#1. What does Pandas stand for?\n",
    "- Pandas stands for either Panel Data or Python Data Analysis\n",
    "\n",
    "#2. What are the 2 collections used in Pandas?\n",
    "- Pandas Series and DataFrames are used\n",
    "\n",
    "#3. Name 4 things Pandas can do for us.\n",
    "- Pandas can do data cleansing, data normalization, data visualization, and data inspection.\n",
    "\n",
    "#4. To permanently sort a DataFrame, which keyword should one use with the df.sort() method?\n",
    "- inplace = true\n",
    "\n",
    "#5. What is a CSV\n",
    "- A CSV file (Comma separated file) is a type of data that is plain text\n",
    "\n",
    "#6. When cleaning data what values do we not like in our data?\n",
    "- Values that are dulicated or inaccurate "
   ]
  },
  {
   "cell_type": "code",
   "execution_count": null,
   "metadata": {},
   "outputs": [],
   "source": [
    "# Import Numbpy, create an array with a shape of (2, 3, 2) using reshape\n",
    "\n",
    "import numpy as np\n",
    "\n",
    "a1 = np.array([2, 3, 2])\n",
    "print(\"a1 ...\\n\", a1)\n",
    "np.reshape(a1, 3)"
   ]
  },
  {
   "cell_type": "code",
   "execution_count": null,
   "metadata": {},
   "outputs": [],
   "source": [
    "#Use NumPy .linspace() to create an array with 6 linearly spaced values between 0 and 20\n",
    "\n",
    "b1 = np.linspace(0, 20, num=6)\n",
    "print(\"Array b1 ...\", b1)\n",
    "\n",
    "#Make a Deep Copy of the above array\n",
    "\n",
    "import copy\n",
    "c1 = copy.deepcopy(b1)\n",
    "print(\"the deepcopy of b1 is...\\n\", c1)"
   ]
  },
  {
   "cell_type": "code",
   "execution_count": null,
   "metadata": {},
   "outputs": [],
   "source": [
    "#Concatenate these 3 arrays into a new array named 'newArray'\n",
    "\n",
    "x1 = ([[25, 16]])\n",
    "y1 = ([[11, 2], [13, 4]])\n",
    "z1 = ([[7, 81], [5, 6], [11, 12]])\n",
    "\n",
    "newArray = np.concatenate((x1, y1, z1))\n",
    "#print(newArray, '\\n')\n",
    "\n",
    "#Sort 'newArray' in order into 'sortedArray'\n",
    "#print(np.sort(newArray), '\\n')\n",
    "\n",
    "#Reshape the 'sortedArray' array, into a new array called 'reshapedArray', so it has 2 dimensions with a size of 2, 3.\n",
    "sortedArray = np.sort(newArray)\n",
    "reshapedArray = newArray.reshape(2,2, 3)\n",
    "#print(reshapedArray, '\\n')\n",
    "\n",
    "#Unpack the array tuples from the above 'reshapedArray' into 4 well named variables. Print the 4 variables.\n",
    "\n",
    "a, b = reshapedArray\n",
    "print(a, '\\n')\n",
    "print(b, '\\n')\n",
    "\n",
    "c, d = a\n",
    "e, f = b\n",
    "print(c, '\\n')\n",
    "print(d, '\\n')\n",
    "print(e, '\\n')\n",
    "print(f, '\\n')\n"
   ]
  },
  {
   "cell_type": "code",
   "execution_count": null,
   "metadata": {},
   "outputs": [],
   "source": [
    "# Combined and sort the following arrays into one called 'comboArray'\n",
    "import numpy as np\n",
    "\n",
    "one = ([10, 11, 12, 13, 14, 15, 16, 17])\n",
    "two = ([20, 21, 22, 23, 24, 25, 26, 27])\n",
    "three = ([ 0, 1, 2, 3, 4, 5, 6, 7])\n",
    "\n",
    "four = np.concatenate((one, two, three), axis=0)\n",
    "print(four, '\\n')\n",
    "#print sec1 - the 2nd element\n",
    "print(four[1], '\\n')\n",
    "#print sec2 - all elements from the 3rd element to the last\n",
    "print(four[2:], '\\n')\n",
    "#print sec3 - all elements from the 4th to the 14th elements\n",
    "print(four[3:13], '\\n')\n",
    "#print sec4 - the last 6 elements\n",
    "print(four[-6:], '\\n')\n",
    "#print sec5 - all element from #0 up to and including #15, using the negative number method, i.e. taking a section from the end.\n",
    "print(four[:-9], '\\n')\n",
    "#print sec6 - from #20 every even element to the end\n",
    "print(four[-8::2], '\\n')\n",
    "#print sec7 - from the last element moving forward, every 5th element.\n",
    "five = four[::-1]\n",
    "print(five[::5], '\\n')"
   ]
  },
  {
   "cell_type": "code",
   "execution_count": null,
   "metadata": {},
   "outputs": [],
   "source": [
    "#Using Series, create a DataFrame\n",
    "import pandas as pd\n",
    "data = {\n",
    " \"ingredients\": [\"flour\", \"milk\", \"eggs\", \"spam\"],\n",
    " \"quantity\": [4, 1, 2, 1],\n",
    " \"unit\": [\"cups\", \"cups\", \"large\", \"can\"]\n",
    "}\n",
    "dinner = pd.DataFrame(data)\n",
    "print(\"Dinner DataFrame ...\\n\", dinner)"
   ]
  },
  {
   "cell_type": "code",
   "execution_count": null,
   "metadata": {},
   "outputs": [],
   "source": [
    "#Take this data and create a DataFrame named studentData\n",
    "   \n",
    "data = {'Name': ['Jai', 'janusha', 'Gaurav', 'Anuj'],\n",
    "        'Height': [5.1, 6.2, 5.1, 5.2],\n",
    "        'Qualification': ['Msc', 'MA', 'Msc', 'Msc'],\n",
    "        'address': ['Delhi', 'Doha', 'Chennai', 'Dakhar'],\n",
    "        'Age': [21, 23, 24, 21],\n",
    "        'Pets': ['Dog', 'Bunny', 'Chinchilla', 'Parrot'],\n",
    "        'sport': ['Darts', 'Basketball', 'PaddleBoarding', 'Cricket']\n",
    "    }\n",
    "studentData = pd.DataFrame(data)\n",
    "#print(\"Student Data DataFrame ...\\n\", studentData)\n",
    "#Add a new column to the DataFrame with the following deserts:\n",
    "Desserts= ['ice cream', 'cashew fudge', 'waffles', 'carrot halwa']\n",
    "studentData['Desserts'] = Desserts\n",
    "#print(studentData)\n",
    "\n",
    "#Sort the 'studentData' DataFrame in Ascending order -- Sorting by column 'Name' and then \"address\"\n",
    "studentData.sort_values(by = ['Name'], inplace = True)\n",
    "#print(studentData)\n",
    "studentData.sort_values(by = ['address'], inplace = True)\n",
    "print(studentData)\n"
   ]
  },
  {
   "cell_type": "code",
   "execution_count": null,
   "metadata": {},
   "outputs": [],
   "source": [
    "#Save this DataFrame here below to disc as a .CSV file with the name cows_and_goats.csv:\n",
    "\n",
    "df = pd.DataFrame({'Cows': [12, 20], 'Goats': [22, 19]}, index=['Year 1', 'Year 2'])\n",
    "df.to_csv('cows_and_goats.csv')\n"
   ]
  },
  {
   "cell_type": "code",
   "execution_count": null,
   "metadata": {},
   "outputs": [],
   "source": [
    "# Using Pandas, make your own .CSV file with data on vegetables and save it. \n",
    "#(B) Using Pandas, make a change to your CSV file, and save a copy with a different name.\n",
    "\n",
    "veggies = pd.DataFrame({'carrots', 'brussel sprouts', 'lettuce', 'cucumber'})\n",
    "veggies.to_csv('veggies.csv')\n",
    "veggies1 =  veggies.replace(to_replace = 'lettuce', value = 'romaine lettuce')"
   ]
  }
 ],
 "metadata": {
  "kernelspec": {
   "display_name": "Python 3",
   "language": "python",
   "name": "python3"
  },
  "language_info": {
   "codemirror_mode": {
    "name": "ipython",
    "version": 3
   },
   "file_extension": ".py",
   "mimetype": "text/x-python",
   "name": "python",
   "nbconvert_exporter": "python",
   "pygments_lexer": "ipython3",
   "version": "3.11.3"
  },
  "orig_nbformat": 4
 },
 "nbformat": 4,
 "nbformat_minor": 2
}
